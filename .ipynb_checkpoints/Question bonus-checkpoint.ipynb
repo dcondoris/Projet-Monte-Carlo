{
 "cells": [
  {
   "cell_type": "code",
   "execution_count": 1,
   "metadata": {},
   "outputs": [],
   "source": [
    "%matplotlib qt\n",
    "import numpy as np\n",
    "import matplotlib.pyplot as plt\n",
    "import time\n",
    "from scipy.stats import uniform\n",
    "from scipy.stats import norm\n",
    "from scipy.stats import multivariate_normal\n",
    "from scipy.stats import expon\n",
    "from scipy.optimize import minimize\n",
    "from mpl_toolkits import mplot3d\n",
    "%matplotlib inline"
   ]
  },
  {
   "cell_type": "code",
   "execution_count": 28,
   "metadata": {},
   "outputs": [],
   "source": [
    "def Z(mu, sigma):\n",
    "    return(norm.cdf(mu/sigma))\n",
    "\n",
    "def g(x, mu, sigma):\n",
    "    return((x >= 0)*norm.pdf(x, mu, sigma)/(Z(mu, sigma)))\n",
    "\n",
    "def params(i, mu, Q, X):\n",
    "    mu_x = mu[i]-np.sum([Q[i,j]*(X[j]-mu[j]) for j in range(len(mu)) if j != i])/Q[i,i]\n",
    "    sigma_squared_x = 1/Q[i,i]\n",
    "    return(mu_x, sigma_squared_x)\n",
    "\n",
    "#On généralise les paramètres de la loi conditionnelle de X_1,...,X_i-1,X_i+1,...,X_k|X_i\n",
    "#Ainsi on pourra calculer les densités marginales en calculant la densité du vecteur X_1,...,X_k divisée par la densité\n",
    "#de X_1,...,X_i-1,X_i+1,...,X_k|X_i, on ne traite cependant que le cas où toutes les bornes sont identiques pour chaque\n",
    "#composante, il faudrait sinon résoudre un système d'inégalité afin de trouver les bornes pour chaque loi conditionnelle, c'est\n",
    "#assez fastidieux.\n",
    "\n",
    "def params_d(a, i, mu, Sigma, Q):\n",
    "    d = len(mu)\n",
    "    mu_1 = np.delete(mu, i)\n",
    "    mu_2 = mu[i]\n",
    "    Sigma_11 = np.delete(np.delete(Sigma, i, axis = 0),i, axis = 1).reshape(d-1,d-1)\n",
    "    Sigma_22 = 1/Sigma[i,i]\n",
    "    Sigma_21 = np.delete(Sigma[i,:], i)\n",
    "    mu_1_a = mu_1+Sigma_21*Sigma_22*(a-mu_2)\n",
    "    Sigma_11_a = Sigma_11 - Sigma_22*Sigma_21.reshape((-1,1)) @ Sigma_21.reshape((1,-1))\n",
    "    return(mu_1_a, Sigma_11_a)\n",
    "\n",
    "def dense(y, i, mu, Sigma, Q, fun, Z_cst, l, u):\n",
    "    #fun correspond à la fonction permettant d'optenir l'approximation de la constante de normalisation\n",
    "    d = len(mu)\n",
    "    X_i = np.ones(d-1)\n",
    "    X = np.ones(d)\n",
    "    X[i] = y\n",
    "    mu_c, Sigma_c = params_d(y, i, mu, Sigma, Q)\n",
    "    Z_cst_c = fun(mu_c, Sigma_c, l, u)\n",
    "    d1 = (l <= X).all()*(X <= u).all()*(multivariate_normal.pdf(X, mean = mu, cov = Sigma))/(Z_cst)\n",
    "    d2 = (l <= X_i).all()*(X_i <= u).all()*(multivariate_normal.pdf(X_i, mean = mu_c, cov = Sigma_c))/(Z_cst_c)\n",
    "    return(d1/d2)\n",
    "    \n",
    "def plot_Gibbs(X, mu, Sigma, l, u):\n",
    "    d = len(mu)\n",
    "    Q = np.linalg.inv(Sigma)\n",
    "    fig, axs = plt.subplots(d, figsize = (10,15))\n",
    "    Z_cst = fun(mu, Sigma, l, u, 10000)\n",
    "    x = np.linspace(l[0], u[0], 100)\n",
    "    for t in range(d):\n",
    "        y = np.array([dense(xx, t, mu, Sigma, Q, fun, Z_cst, l, u) for xx in x])\n",
    "        axs[t].hist(X[:,t], density = True, bins = 40, label = \"Histogramme des simulations\")\n",
    "        axs[t].plot(x, y, label = \"Densité théorique\")\n",
    "    fig.suptitle('Densités théoriques et pratiques', y = 0.9)"
   ]
  },
  {
   "cell_type": "markdown",
   "metadata": {},
   "source": [
    "Un peu comme avant, il suffit pour simuler n'importe qu'elle troncature, de simuler une loi normale tronquée multivariée avec pour bornes $l-\\mu$ et $u-\\mu$ et ensuite multiplier par $L$ la décomposition de cholesky de $\\boldsymbol{\\Sigma}$ avant de finalement rajouter $\\mu$."
   ]
  },
  {
   "cell_type": "markdown",
   "metadata": {},
   "source": [
    "## SOV Estimator"
   ]
  },
  {
   "cell_type": "code",
   "execution_count": 3,
   "metadata": {},
   "outputs": [],
   "source": [
    "def SOV(n, mu, l, u, Sigma):\n",
    "    k = len(mu)\n",
    "    X = np.zeros((n, k))\n",
    "    L = np.linalg.cholesky(Sigma)\n",
    "    U = uniform.rvs(size = n*k)\n",
    "    for n_ in range(n):\n",
    "        for k_ in range(k):\n",
    "            l_ = (l[k_]-mu[k_]-np.sum(X[n_,:k_]*L[k_,:k_]))/L[k_,k_]\n",
    "            u_ = (u[k_]-mu[k_]-np.sum(X[n_,:k_]*L[k_,:k_]))/L[k_,k_]\n",
    "            X[n_, k_] = norm.ppf(norm.cdf(l_)+U[n_*k+k_]*(norm.cdf(u_)-norm.cdf(l_)))\n",
    "    return(X)"
   ]
  },
  {
   "cell_type": "code",
   "execution_count": 4,
   "metadata": {},
   "outputs": [],
   "source": [
    "def fun(mu, Sigma, l, u, n = 100):\n",
    "    #On utilisera par la suite une approximation par l'estimateur SOV qui est suffisante pour les graphiques que l'on souhaite\n",
    "    k = len(mu)\n",
    "    X = np.zeros((n, k))\n",
    "    Val = np.ones(n)\n",
    "    L = np.linalg.cholesky(Sigma)\n",
    "    U = uniform.rvs(size = n*k)\n",
    "    for n_ in range(n):\n",
    "        for k_ in range(k):\n",
    "            l_ = (l[k_]-mu[k_]-np.sum(X[n_,:k_]*L[k_,:k_]))/L[k_,k_]\n",
    "            u_ = (u[k_]-mu[k_]-np.sum(X[n_,:k_]*L[k_,:k_]))/L[k_,k_]\n",
    "            X[n_, k_] = norm.ppf(norm.cdf(l_)+U[n_*k+k_]*(norm.cdf(u_)-norm.cdf(l_)))\n",
    "            Val[n_] *= norm.cdf(u_)-norm.cdf(l_)\n",
    "    return(np.mean(Val))\n",
    "\n",
    "def u_tilde(x, u, L):\n",
    "    return([(u[i]-np.sum(x[:i]*L[i, :i]))/L[i, i] for i in range(len(x))])\n",
    "\n",
    "def l_tilde(x, l, L):\n",
    "    return([(l[i]-np.sum(x[:i]*L[i, :i]))/L[i, i] for i in range(len(x))])"
   ]
  },
  {
   "cell_type": "code",
   "execution_count": 5,
   "metadata": {},
   "outputs": [],
   "source": [
    "mu = np.array([0.,0.])\n",
    "Sigma = np.linalg.inv(np.array([[1.,0.5],\n",
    "                                [0.5,1.]]))\n",
    "d = len(mu)\n",
    "l = 0.5*np.ones(2)\n",
    "u = np.ones(2)\n",
    "L = np.linalg.cholesky(Sigma)\n",
    "P0 = np.array([0.7,0.7,0.75,0.3])"
   ]
  },
  {
   "cell_type": "code",
   "execution_count": 6,
   "metadata": {},
   "outputs": [],
   "source": [
    "n = 10000\n",
    "X_hist = SOV(n, mu, l, u, Sigma)\n",
    "Stat_SOV = []\n",
    "for n_ in range(n):\n",
    "    u_app = u_tilde(X_hist[n_], u, L)\n",
    "    l_app = l_tilde(X_hist[n_], l, L)\n",
    "    m = 1\n",
    "    for k_ in range(len(mu)):\n",
    "        m *= norm.cdf(u_app[k_])-norm.cdf(l_app[k_])\n",
    "    Stat_SOV.append(m)"
   ]
  },
  {
   "cell_type": "code",
   "execution_count": 7,
   "metadata": {},
   "outputs": [
    {
     "name": "stdout",
     "output_type": "stream",
     "text": [
      "SOV: L'estimateur de la constante de normalisation est: 0.014912414864561038 +- 2.283819030109885e-05.\n"
     ]
    },
    {
     "data": {
      "text/plain": [
       "0.014912414864561038"
      ]
     },
     "execution_count": 7,
     "metadata": {},
     "output_type": "execute_result"
    }
   ],
   "source": [
    "print(\"SOV: L'estimateur de la constante de normalisation est: \", np.mean(Stat_SOV),\" +- \", 1.96*np.sqrt(np.var(Stat_SOV))/np.sqrt(n),\".\", sep ='')\n",
    "np.mean(Stat_SOV)"
   ]
  },
  {
   "cell_type": "markdown",
   "metadata": {},
   "source": [
    "## $\\text{exp}(\\psi(\\boldsymbol{x^{*}}; \\boldsymbol{\\mu^{*}}))$ "
   ]
  },
  {
   "cell_type": "code",
   "execution_count": 25,
   "metadata": {},
   "outputs": [],
   "source": [
    "#La fonction in_int permet de vérifier si les contraintes sont respectées\n",
    "\n",
    "def in_int(x, l, u, L):\n",
    "    return(np.prod((l < np.dot(L, x))*(np.dot(L, x) < u)))\n",
    "\n",
    "def phi(x):\n",
    "    return(np.prod(norm.pdf(x)))"
   ]
  },
  {
   "cell_type": "code",
   "execution_count": 9,
   "metadata": {},
   "outputs": [],
   "source": [
    "#Définition de la fonction des contraintes si l'optimisation direct ne parvient pas à trouver le point selle avec x dans C\n",
    "\n",
    "def Cons_l(P, l, u, L):\n",
    "    taille = int(len(P)/2)\n",
    "    x = P[:taille]\n",
    "    return(np.concatenate((np.dot(L, x)-l,u-np.dot(L, x))))\n",
    "\n",
    "def Cons_u(P, u, L):\n",
    "    taille = int(len(P)/2)\n",
    "    x = P[:taille]\n",
    "    return(u-np.dot(L, x))"
   ]
  },
  {
   "cell_type": "code",
   "execution_count": 10,
   "metadata": {},
   "outputs": [],
   "source": [
    "#La fonction que l'on souhaite maximiser sous la contrainte que x soit dans C, c'est à dire l <= Lx <= u\n",
    "\n",
    "def psi(P, l, u, L):\n",
    "    taille = int(len(P)/2)\n",
    "    x = P[:taille]\n",
    "    mu = P[taille:]\n",
    "    l_app = l_tilde(x, l, L)\n",
    "    u_app = u_tilde(x, u, L)\n",
    "    return((-(x @ mu.T)+(mu @ mu.T)/2+np.sum([np.log(norm.cdf(u_app[k]-mu[k])-norm.cdf(l_app[k]-mu[k])) for k in range(len(x))])))"
   ]
  },
  {
   "cell_type": "code",
   "execution_count": 11,
   "metadata": {},
   "outputs": [],
   "source": [
    "#La jacobienne de la fonction précédente\n",
    "\n",
    "def dpsi(P, l, u, L):\n",
    "    taille = int(len(P)/2)\n",
    "    x = P[:taille]\n",
    "    mu = P[taille:]\n",
    "    l_app = l_tilde(x, l, L)\n",
    "    u_app = u_tilde(x, u, L)\n",
    "    Psi = np.array([(norm.pdf(l_app[j], loc = mu[j])-norm.pdf(u_app[j], loc = mu[j]))/\\\n",
    "                    (norm.cdf(u_app[j]-mu[j])-norm.cdf(l_app[j]-mu[j])) for j in range(len(x))])\n",
    "    D = np.diag(np.diag(L))\n",
    "    L_tilde = np.dot(np.linalg.inv(D), L)\n",
    "    dpsi_x = -mu+np.dot((L_tilde.T-np.diag(np.ones(len(x)))), Psi)\n",
    "    dpsi_mu = mu-x+Psi\n",
    "    return(np.concatenate((dpsi_x, dpsi_mu)))"
   ]
  },
  {
   "cell_type": "code",
   "execution_count": 12,
   "metadata": {},
   "outputs": [],
   "source": [
    "#La hessienne\n",
    "\n",
    "def ddpsi(P, l, u, L):\n",
    "    taille = int(len(P)/2)\n",
    "    x = P[:taille]\n",
    "    mu = P[taille:]\n",
    "    t = len(x)\n",
    "    H = np.zeros((2*t, 2*t))\n",
    "    l_app = l_tilde(x, l, L)\n",
    "    u_app = u_tilde(x, u, L)\n",
    "    Psi = np.array([(norm.pdf(l_app[j], loc = mu[j])-norm.pdf(u_app[j], loc = mu[j]))/\\\n",
    "                    (norm.cdf(u_app[j]-mu[j])-norm.cdf(l_app[j]-mu[j])) for j in range(len(x))])\n",
    "    Psi_prime = np.array([((l_app[j]-mu[j])*norm.pdf(l_app[j], loc = mu[j])-(u_app[j]-mu[j])*norm.pdf(u_app[j], loc = mu[j]))\\\n",
    "                         /(norm.cdf(u_app[j]-mu[j])-norm.cdf(l_app[j]-mu[j]))-Psi[j]**2 for j in range(len(x))])\n",
    "    D = np.diag(np.diag(L))\n",
    "    L_tilde = np.dot(np.linalg.inv(D), L)\n",
    "    H[:t, :t] = np.dot(np.dot((L_tilde-np.diag(np.ones(t))).T, np.diag(Psi_prime)), (L_tilde-np.diag(np.ones(t))))\n",
    "    H[t:, :t] = (np.dot((L_tilde-np.diag(np.ones(t))), np.diag(Psi_prime))-np.diag(np.ones(t)))\n",
    "    H[:t, t:] = H[t:, :t].T\n",
    "    H[t:, t:] = np.diag(np.ones(t)+Psi_prime)\n",
    "    return(H)"
   ]
  },
  {
   "cell_type": "code",
   "execution_count": 13,
   "metadata": {},
   "outputs": [],
   "source": [
    "from scipy.optimize import fsolve\n",
    "\n",
    "#On résout dpsi = 0\n",
    "\n",
    "res = fsolve(dpsi, P0, fprime = ddpsi, args = (l, u, L))"
   ]
  },
  {
   "cell_type": "code",
   "execution_count": 14,
   "metadata": {
    "scrolled": true
   },
   "outputs": [
    {
     "data": {
      "text/plain": [
       "0.01493352088340125"
      ]
     },
     "execution_count": 14,
     "metadata": {},
     "output_type": "execute_result"
    }
   ],
   "source": [
    "np.exp(psi(res, l, u, L))"
   ]
  },
  {
   "cell_type": "code",
   "execution_count": 15,
   "metadata": {},
   "outputs": [
    {
     "name": "stdout",
     "output_type": "stream",
     "text": [
      "exp(psi(x*;u*)): L'estimateur de la constante de normalisation est: 0.01493352088340125.\n"
     ]
    }
   ],
   "source": [
    "print(\"exp(psi(x*;u*)): L'estimateur de la constante de normalisation est: \", np.exp(psi(res, l, u, L)), \".\", sep ='')"
   ]
  },
  {
   "cell_type": "code",
   "execution_count": 16,
   "metadata": {},
   "outputs": [
    {
     "name": "stdout",
     "output_type": "stream",
     "text": [
      "1\n"
     ]
    }
   ],
   "source": [
    "c = np.exp(psi(res, l, u, L))\n",
    "print(in_int(res[:d], l, u, L)) #Vérification que la solution vérifie bien la contrainte, sinon on optimise de nouveau avec ce \n",
    "                                #point comme initialisation de la méthode de descente de gradient."
   ]
  },
  {
   "cell_type": "markdown",
   "metadata": {},
   "source": [
    "## MET Estimator"
   ]
  },
  {
   "cell_type": "code",
   "execution_count": 17,
   "metadata": {},
   "outputs": [],
   "source": [
    "def g2(X, u = u, l = l, L = L, m = res[d:]):\n",
    "    l_app = l_tilde(X, l, L)\n",
    "    u_app = u_tilde(X, u, L)\n",
    "    g_d = 1\n",
    "    for k in range(len(X)):\n",
    "        g_d *= norm.pdf(X[k], loc = m[k])/(norm.cdf(u_app[k]-m[k])-norm.cdf(l_app[k]-m[k]))\n",
    "    return(g_d)"
   ]
  },
  {
   "cell_type": "code",
   "execution_count": 18,
   "metadata": {},
   "outputs": [],
   "source": [
    "def G(l, u, L, mu):\n",
    "    k = len(mu)+1\n",
    "    X = np.zeros(k)\n",
    "    U = uniform.rvs(size = k)\n",
    "    for k_ in range(k):\n",
    "        l_app = (l[k_]-np.sum(X[:k_]*L[k_,:k_]))/L[k_,k_]\n",
    "        u_app = (u[k_]-np.sum(X[:k_]*L[k_,:k_]))/L[k_,k_]\n",
    "        X[k_] = mu[k_]+norm.ppf(norm.cdf(l_app-mu[k_])+U[k_]*(norm.cdf(u_app-mu[k_])-norm.cdf(l_app-mu[k_])))\n",
    "    return(X)"
   ]
  },
  {
   "cell_type": "code",
   "execution_count": 20,
   "metadata": {},
   "outputs": [],
   "source": [
    "MET = []\n",
    "for n_ in range(n):\n",
    "    MET.append(psi(np.concatenate((G(l, u, L, mu), res[2:])), l, u, L))"
   ]
  },
  {
   "cell_type": "code",
   "execution_count": 21,
   "metadata": {},
   "outputs": [],
   "source": [
    "MM = np.exp(MET)"
   ]
  },
  {
   "cell_type": "code",
   "execution_count": 22,
   "metadata": {},
   "outputs": [
    {
     "name": "stdout",
     "output_type": "stream",
     "text": [
      "MET: L'estimateur de la constante de normalisation est: 0.01489605531603585 +- 6.893580246919541e-07.\n"
     ]
    }
   ],
   "source": [
    "print(\"MET: L'estimateur de la constante de normalisation est: \", np.mean(MM),\" +- \", 1.96*np.sqrt(np.var(MM))/np.sqrt(n),\".\", sep ='')"
   ]
  },
  {
   "cell_type": "code",
   "execution_count": 23,
   "metadata": {},
   "outputs": [],
   "source": [
    "def AR(c, g, G, l, u, mu, L):\n",
    "    U = uniform.rvs()\n",
    "    X = G(l, u, L, mu)\n",
    "    while(c*U > phi(X)/g(X)):\n",
    "        U = uniform.rvs()\n",
    "        X = G(l, u, L, mu)\n",
    "    return(X)"
   ]
  },
  {
   "cell_type": "code",
   "execution_count": 26,
   "metadata": {},
   "outputs": [],
   "source": [
    "n = 10000\n",
    "Test = np.array([np.dot(L, AR(c, g2, G, l, u, res[2:], L)) for _n in range(n)])"
   ]
  },
  {
   "cell_type": "code",
   "execution_count": 29,
   "metadata": {},
   "outputs": [
    {
     "data": {
      "image/png": "[encoded data removed]",
      "text/plain": [
       "<Figure size 720x1080 with 2 Axes>"
      ]
     },
     "metadata": {
      "needs_background": "light"
     },
     "output_type": "display_data"
    }
   ],
   "source": [
    "plot_Gibbs(Test, mu, Sigma, l, u)"
   ]
  },
  {
   "cell_type": "markdown",
   "metadata": {},
   "source": [
    "Reproduction pour d quelconque des résultats du papier dans l'exemple 1 (Fernandez et al., 2007)."
   ]
  },
  {
   "cell_type": "code",
   "execution_count": 44,
   "metadata": {
    "scrolled": true
   },
   "outputs": [
    {
     "name": "stdout",
     "output_type": "stream",
     "text": [
      "d = 2. SOV: L'estimateur de la constante de normalisation est: 0.014909017093023533 +- 2.302886184458778e-05.\n",
      "d = 2. exp(psi(x*;u*)): L'estimateur de la constante de normalisation est: 0.014933520883401236.\n",
      "d = 2. MET: L'estimateur de la constante de normalisation est: 0.014895465063306338 +- 6.892054176192259e-07.\n",
      "d = 3. SOV: L'estimateur de la constante de normalisation est: 0.0010803757602789099 +- 3.633599180667379e-06.\n",
      "d = 3. exp(psi(x*;u*)): L'estimateur de la constante de normalisation est: 0.0010835081580523678.\n",
      "d = 3. MET: L'estimateur de la constante de normalisation est: 0.001076903893787294 +- 1.419027029163212e-07.\n",
      "d = 5. SOV: L'estimateur de la constante de normalisation est: 2.449526750875157e-06 +- 2.0555955829055005e-08.\n",
      "d = 5. exp(psi(x*;u*)): L'estimateur de la constante de normalisation est: 2.483312430607983e-06.\n",
      "d = 5. MET: L'estimateur de la constante de normalisation est: 2.444846161345086e-06 +- 9.126594892487461e-10.\n",
      "d = 10. SOV: L'estimateur de la constante de normalisation est: 8.652164921572843e-15 +- 2.958685498135516e-16.\n",
      "d = 10. exp(psi(x*;u*)): L'estimateur de la constante de normalisation est: 8.817116394007097e-15.\n",
      "d = 10. MET: L'estimateur de la constante de normalisation est: 8.153467204443727e-15 +- 1.3416874602260296e-17.\n",
      "d = 15. SOV: L'estimateur de la constante de normalisation est: 1.5754843928482314e-25 +- 2.2354256464398916e-26.\n",
      "d = 15. exp(psi(x*;u*)): L'estimateur de la constante de normalisation est: 1.4344052165535637e-25.\n",
      "d = 15. MET: L'estimateur de la constante de normalisation est: 1.0942307793890839e-25 +- 4.574571019205486e-28.\n"
     ]
    }
   ],
   "source": [
    "D = [2,3,5,10,15]\n",
    "n = 10000\n",
    "for d in D:\n",
    "    mu = np.zeros(d)\n",
    "    Sigma = np.linalg.inv(0.5*(np.ones(d).reshape((-1,1)) @ np.ones(d).reshape((1,-1)))+0.5*np.diag(np.ones(d)))\n",
    "    l = 0.5*np.ones(d)\n",
    "    u = np.ones(d)\n",
    "    L = np.linalg.cholesky(Sigma)\n",
    "    X_hist = SOV(n, mu, l, u, Sigma)\n",
    "    Stat_SOV = []\n",
    "    for n_ in range(n):\n",
    "        u_app = u_tilde(X_hist[n_], u, L)\n",
    "        l_app = l_tilde(X_hist[n_], l, L)\n",
    "        m = 1\n",
    "        for k_ in range(len(mu)):\n",
    "            m *= norm.cdf(u_app[k_])-norm.cdf(l_app[k_])\n",
    "        Stat_SOV.append(m)\n",
    "    print(\"d = \", d, \". SOV: L'estimateur de la constante de normalisation est: \", np.mean(Stat_SOV),\" +- \", 1.96*np.sqrt(np.var(Stat_SOV))/np.sqrt(n),\".\", sep ='')\n",
    "    P0 = np.concatenate((0.7*np.ones(d), 0.4*np.ones(d)))\n",
    "    res = fsolve(dpsi, P0, fprime = ddpsi, args = (l, u, L))\n",
    "    print(\"d = \", d, \". exp(psi(x*;u*)): L'estimateur de la constante de normalisation est: \", np.exp(psi(res, l, u, L)), \".\", sep ='')\n",
    "    MET = []\n",
    "    for n_ in range(n):\n",
    "        MET.append(psi(np.concatenate((G(l, u, L, mu), res[d:])), l, u, L))\n",
    "    MM = np.exp(MET)\n",
    "    print(\"d = \", d, \". MET: L'estimateur de la constante de normalisation est: \", np.mean(MM),\" +- \", 1.96*np.sqrt(np.var(MM))/np.sqrt(n),\".\", sep ='')\n",
    "    print('\\n')"
   ]
  },
  {
   "cell_type": "code",
   "execution_count": null,
   "metadata": {},
   "outputs": [],
   "source": [
    "#La haute proba d'acceptation est très intéressante pour simuler des lois, elle permet d'atteindre un temps minimal avant \n",
    "#d'obtenir un échantillon, c'est en particulier efficace quand d est grand et que donc la mesure de l'évènement de troncature \n",
    "#est très petit"
   ]
  }
 ],
 "metadata": {
  "kernelspec": {
   "display_name": "Python 3 (ipykernel)",
   "language": "python",
   "name": "python3"
  },
  "language_info": {
   "codemirror_mode": {
    "name": "ipython",
    "version": 3
   },
   "file_extension": ".py",
   "mimetype": "text/x-python",
   "name": "python",
   "nbconvert_exporter": "python",
   "pygments_lexer": "ipython3",
   "version": "3.9.7"
  },
  "latex_envs": {
   "LaTeX_envs_menu_present": true,
   "autoclose": false,
   "autocomplete": true,
   "bibliofile": "biblio.bib",
   "cite_by": "apalike",
   "current_citInitial": 1,
   "eqLabelWithNumbers": true,
   "eqNumInitial": 1,
   "hotkeys": {
    "equation": "Ctrl-E",
    "itemize": "Ctrl-I"
   },
   "labels_anchors": false,
   "latex_user_defs": false,
   "report_style_numbering": false,
   "user_envs_cfg": false
  },
  "varInspector": {
   "cols": {
    "lenName": 16,
    "lenType": 16,
    "lenVar": 40
   },
   "kernels_config": {
    "python": {
     "delete_cmd_postfix": "",
     "delete_cmd_prefix": "del ",
     "library": "var_list.py",
     "varRefreshCmd": "print(var_dic_list())"
    },
    "r": {
     "delete_cmd_postfix": ") ",
     "delete_cmd_prefix": "rm(",
     "library": "var_list.r",
     "varRefreshCmd": "cat(var_dic_list()) "
    }
   },
   "types_to_exclude": [
    "module",
    "function",
    "builtin_function_or_method",
    "instance",
    "_Feature"
   ],
   "window_display": false
  }
 },
 "nbformat": 4,
 "nbformat_minor": 2
}
