{
 "cells": [
  {
   "cell_type": "code",
   "execution_count": 1,
   "metadata": {},
   "outputs": [],
   "source": [
    "%matplotlib qt\n",
    "import numpy as np\n",
    "import matplotlib.pyplot as plt\n",
    "import time\n",
    "from scipy.stats import uniform\n",
    "from scipy.stats import norm\n",
    "from scipy.stats import multivariate_normal\n",
    "from scipy.stats import expon\n",
    "from scipy.optimize import minimize\n",
    "from mpl_toolkits import mplot3d\n",
    "%matplotlib inline"
   ]
  },
  {
   "cell_type": "code",
   "execution_count": 2,
   "metadata": {},
   "outputs": [
    {
     "name": "stdout",
     "output_type": "stream",
     "text": [
      "10\n"
     ]
    }
   ],
   "source": [
    "print(10)"
   ]
  },
  {
   "cell_type": "code",
   "execution_count": 138,
   "metadata": {},
   "outputs": [],
   "source": [
    "def Z(mu, sigma):\n",
    "    return(norm.cdf(mu/sigma))\n",
    "\n",
    "def g(x, mu, sigma):\n",
    "    return((x >= 0)*norm.pdf(x, mu, sigma)/(Z(mu, sigma)))\n",
    "\n",
    "def params(i, mu, Q, X):\n",
    "    mu_x = mu[i]-np.sum([Q[i,j]*(X[j]-mu[j]) for j in range(len(mu)) if j != i])/Q[i,i]\n",
    "    sigma_squared_x = 1/Q[i,i]\n",
    "    return(mu_x, sigma_squared_x)\n",
    "\n",
    "def params_d(a, i, mu, Sigma, Q):\n",
    "    d = len(mu)\n",
    "    mu_1 = np.delete(mu, i)\n",
    "    mu_2 = mu[i]\n",
    "    Sigma_11 = np.delete(np.delete(Sigma, i, axis = 0),i, axis = 1).reshape(d-1,d-1)\n",
    "    Sigma_22 = 1/Sigma[i,i]\n",
    "    Sigma_21 = np.delete(Sigma[i,:], i)\n",
    "    mu_1_a = mu_1+Sigma_21*Sigma_22*(a-mu_2)\n",
    "    Sigma_11_a = Sigma_11 - Sigma_22*Sigma_21.reshape((-1,1)) @ Sigma_21.reshape((1,-1))\n",
    "    return(mu_1_a, Sigma_11_a)\n",
    "\n",
    "def dense(y, i, mu, Sigma, Q, fun, Z_cst):\n",
    "    d = len(mu)\n",
    "    X_i = np.ones(d-1)\n",
    "    X = np.ones(d)\n",
    "    X[i] = y\n",
    "    mu_c, Sigma_c = params_d(y, i, mu, Sigma, Q)\n",
    "    if(d == 3):\n",
    "        Z_cst_cx = (1-norm.cdf(0,loc=mu_c[0],scale=np.sqrt(Sigma_c[0,0]))\n",
    "              -norm.cdf(0,loc=mu_c[1],scale=np.sqrt(Sigma_c[1,1]))\n",
    "              +multivariate_normal.cdf(np.zeros(2),mean=mu_c,cov=Sigma_c))\n",
    "    else:\n",
    "        Z_cst_cx = fun(mu_c, Sigma_c)\n",
    "    d1 = (0 <= X).all()*(multivariate_normal.pdf(X, mean = mu, cov = Sigma))/(Z_cst)\n",
    "    d2 = (0 <= X_i).all()*(multivariate_normal.pdf(X_i, mean = mu_c, cov = Sigma_c))/(Z_cst_cx)\n",
    "    return(d1/d2)\n",
    "\n",
    "def dense_1(y, i, mu, Sigma, Q):\n",
    "    Z_cst = (1-norm.cdf(0,loc=mu[0],scale=np.sqrt(Sigma[0,0]))\n",
    "              -norm.cdf(0,loc=mu[1],scale=np.sqrt(Sigma[1,1]))\n",
    "              +multivariate_normal.cdf(np.zeros(2),mean=mu,cov=Sigma))\n",
    "    X = np.ones(len(mu))\n",
    "    j = 0 if i == 1 else 1\n",
    "    X[i] = y\n",
    "    p = params(j, mu, Q, X)\n",
    "    d1 = (0. <= X).all()*(multivariate_normal.pdf(X, mean = mu, cov = Sigma))/(Z_cst)\n",
    "    d2 = g(1, p[0], np.sqrt(p[1]))\n",
    "    return(d1/d2)\n",
    "\n",
    "def plot_Gibbs_2D(X, mu, Sigma):\n",
    "    d = len(mu)\n",
    "    Q = np.linalg.inv(Sigma)\n",
    "    fig, axs = plt.subplots(d, figsize = (10,15))\n",
    "    for t in range(d):\n",
    "        x = np.linspace(0, 10, 100)\n",
    "        y = np.array([dense_1(xx, t, mu, Sigma, Q) for xx in x])\n",
    "        axs[t].hist(X[:,t], density = True, bins = 40, label = \"Histogramme des simulations\")\n",
    "        axs[t].plot(x, y, label = \"Densité théorique\")\n",
    "    fig.suptitle('Densités théoriques et pratiques', y = 0.9)\n",
    "    \n",
    "def plot_Gibbs(X, mu, Sigma):\n",
    "    d = len(mu)\n",
    "    Q = np.linalg.inv(Sigma)\n",
    "    fig, axs = plt.subplots(d, figsize = (10,15))\n",
    "    Z_cst = fun(mu, Sigma, 10000)\n",
    "    for t in range(d):\n",
    "        x = np.linspace(0, 10, 100)\n",
    "        y = np.array([dense(xx, t, mu, Sigma, Q, fun, Z_cst) for xx in x])\n",
    "        axs[t].hist(X[:,t], density = True, bins = 40, label = \"Histogramme des simulations\")\n",
    "        axs[t].plot(x, y, label = \"Densité théorique\")\n",
    "    fig.suptitle('Densités théoriques et pratiques', y = 0.9)"
   ]
  },
  {
   "cell_type": "code",
   "execution_count": null,
   "metadata": {},
   "outputs": [],
   "source": [
    "def M1(mu, sigma):\n",
    "    return(1/Z(mu, sigma))\n",
    "\n",
    "def Lambda_Star(mu, sigma):\n",
    "    Delta = mu*mu+4*sigma*sigma\n",
    "    return((-mu+np.sqrt(Delta))/(2*sigma*sigma))\n",
    "\n",
    "def M2(mu, sigma):\n",
    "    L_Star = Lambda_Star(mu, sigma)\n",
    "    return((np.exp(mu*L_Star+sigma*sigma*L_Star*L_Star/2))/(L_Star*Z(mu, sigma)*np.sqrt(2*np.pi)*sigma))\n",
    "\n",
    "def AR_Norm_Simple(mu, sigma):\n",
    "    X = -1\n",
    "    M_1 = M1(mu, sigma)\n",
    "    M_2 = M2(mu, sigma)\n",
    "    if(M_2 >= M_1):\n",
    "        while(X == -1):\n",
    "            Y = mu+sigma*norm.rvs()\n",
    "            if(Y > 0):\n",
    "                X = Y\n",
    "    else:\n",
    "        while(X == -1):\n",
    "            L_Star = Lambda_Star(mu, sigma)\n",
    "            Y = expon.rvs(scale = 1/L_Star)\n",
    "            U = uniform.rvs()\n",
    "            if(g(Y, mu, sigma)/(M_2*expon.pdf(Y, scale = 1/L_Star)) >= U):\n",
    "                X = Y\n",
    "    return(X) "
   ]
  },
  {
   "cell_type": "code",
   "execution_count": 4,
   "metadata": {},
   "outputs": [],
   "source": [
    "def SOV(mu, Sigma, n = 1000):\n",
    "    k = len(mu)\n",
    "    X = np.zeros((n, k))\n",
    "    L = np.linalg.cholesky(Sigma)\n",
    "    U = uniform.rvs(size = n*k)\n",
    "    for n_ in range(n):\n",
    "        for k_ in range(k):\n",
    "            l_ = (-mu[k_]-np.sum(X[n_,:k_]*L[k_,:k_]))/L[k_,k_]\n",
    "            X[n_, k_] = norm.ppf(norm.cdf(l_)+U[n_*k+k_]*(1-norm.cdf(l_)))\n",
    "    return(X)\n",
    "\n",
    "def fun(mu, Sigma, n = 1000):\n",
    "    k = len(mu)\n",
    "    X = np.zeros((n, k))\n",
    "    Val = np.ones(n)\n",
    "    L = np.linalg.cholesky(Sigma)\n",
    "    U = uniform.rvs(size = n*k)\n",
    "    for n_ in range(n):\n",
    "        for k_ in range(k):\n",
    "            l_ = (-mu[k_]-np.sum(X[n_,:k_]*L[k_,:k_]))/L[k_,k_]\n",
    "            X[n_, k_] = norm.ppf(norm.cdf(l_)+U[n_*k+k_]*(1-norm.cdf(l_)))\n",
    "            Val[n_] *= 1-norm.cdf(l_)\n",
    "    return(np.mean(Val))"
   ]
  },
  {
   "cell_type": "code",
   "execution_count": 5,
   "metadata": {},
   "outputs": [],
   "source": [
    "def in_int(x, l, u, L):\n",
    "    return(np.prod((l < np.dot(L, x))*(np.dot(L, x) < u)))"
   ]
  },
  {
   "cell_type": "code",
   "execution_count": 6,
   "metadata": {},
   "outputs": [],
   "source": [
    "def Cons_l(P, l, u, L):\n",
    "    taille = int(len(P)/2)\n",
    "    x = P[:taille]\n",
    "    return(np.concatenate((np.dot(L, x)-l,u-np.dot(L, x))))\n",
    "\n",
    "def Cons_u(P, u, L):\n",
    "    taille = int(len(P)/2)\n",
    "    x = P[:taille]\n",
    "    return(u-np.dot(L, x))"
   ]
  },
  {
   "cell_type": "code",
   "execution_count": 81,
   "metadata": {},
   "outputs": [],
   "source": [
    "def l_tilde(x, mu, L):\n",
    "    return([(-mu[i]-np.sum(x[:i]*L[i, :i]))/L[i, i] for i in range(len(x))])\n",
    "\n",
    "def phi(x):\n",
    "    return(np.prod(norm.pdf(x)))"
   ]
  },
  {
   "cell_type": "code",
   "execution_count": 88,
   "metadata": {},
   "outputs": [],
   "source": [
    "def psi(P, m, L):\n",
    "    taille = int(len(P)/2)\n",
    "    x = P[:taille]\n",
    "    mu = P[taille:]\n",
    "    l_app = l_tilde(x, m, L)\n",
    "    return((-(x @ mu.T)+(mu @ mu.T)/2+np.sum([np.log(1-norm.cdf(l_app[k]-mu[k])) for k in range(len(x))])))"
   ]
  },
  {
   "cell_type": "code",
   "execution_count": 83,
   "metadata": {},
   "outputs": [],
   "source": [
    "def dpsi(P, m, L):\n",
    "    taille = int(len(P)/2)\n",
    "    x = P[:taille]\n",
    "    mu = P[taille:]\n",
    "    l_app = l_tilde(x, m, L)\n",
    "    Psi = np.array([(norm.pdf(l_app[j], loc = mu[j]))/\\\n",
    "                    (1-norm.cdf(l_app[j]-mu[j])) for j in range(len(x))])\n",
    "    D = np.diag(np.diag(L))\n",
    "    L_tilde = np.dot(np.linalg.inv(D), L)\n",
    "    dpsi_x = -mu+np.dot((L_tilde.T-np.diag(np.ones(len(x)))), Psi)\n",
    "    dpsi_mu = mu-x+Psi\n",
    "    return(np.concatenate((dpsi_x, dpsi_mu)))"
   ]
  },
  {
   "cell_type": "code",
   "execution_count": 84,
   "metadata": {},
   "outputs": [],
   "source": [
    "def ddpsi(P, m, L):\n",
    "    taille = int(len(P)/2)\n",
    "    x = P[:taille]\n",
    "    mu = P[taille:]\n",
    "    t = len(x)\n",
    "    H = np.zeros((2*t, 2*t))\n",
    "    l_app = l_tilde(x, m, L)\n",
    "    Psi = np.array([(norm.pdf(l_app[j], loc = mu[j]))/\\\n",
    "                    (1-norm.cdf(l_app[j]-mu[j])) for j in range(len(x))])\n",
    "    Psi_prime = np.array([(l_app[j]-mu[j])*Psi[j]-Psi[j]**2 for j in range(len(x))])\n",
    "    D = np.diag(np.diag(L))\n",
    "    L_tilde = np.dot(np.linalg.inv(D), L)\n",
    "    H[:t, :t] = np.dot(np.dot((L_tilde-np.diag(np.ones(t))).T, np.diag(Psi_prime)), (L_tilde-np.diag(np.ones(t))))\n",
    "    H[t:, :t] = (np.dot((L_tilde-np.diag(np.ones(t))), np.diag(Psi_prime))-np.diag(np.ones(t)))\n",
    "    H[:t, t:] = H[t:, :t].T\n",
    "    H[t:, t:] = np.diag(np.ones(t)+Psi_prime)\n",
    "    return(H)"
   ]
  },
  {
   "cell_type": "code",
   "execution_count": 109,
   "metadata": {},
   "outputs": [],
   "source": [
    "mu = np.array([0.,3.,2.])\n",
    "Sigma = np.array([[1.,0.5,0.5],\n",
    "                  [0.5,1.,0.5],\n",
    "                  [0.5,0.5,2.]])\n",
    "L = np.linalg.cholesky(Sigma)\n",
    "P0 = np.array([0.7,0.7,0.7,0.75,0.75,0.3])"
   ]
  },
  {
   "cell_type": "code",
   "execution_count": 111,
   "metadata": {},
   "outputs": [
    {
     "data": {
      "text/plain": [
       "array([0.7       , 0.95621778, 1.45576871])"
      ]
     },
     "execution_count": 111,
     "metadata": {},
     "output_type": "execute_result"
    }
   ],
   "source": [
    "np.dot(L, P0[:3])"
   ]
  },
  {
   "cell_type": "code",
   "execution_count": 112,
   "metadata": {},
   "outputs": [],
   "source": [
    "from scipy.optimize import fsolve\n",
    "\n",
    "res = fsolve(dpsi, P0, fprime = ddpsi, args = (mu, L))"
   ]
  },
  {
   "cell_type": "code",
   "execution_count": 113,
   "metadata": {},
   "outputs": [
    {
     "data": {
      "text/plain": [
       "0.4843304552649469"
      ]
     },
     "execution_count": 113,
     "metadata": {},
     "output_type": "execute_result"
    }
   ],
   "source": [
    "np.exp(psi(res, mu, L))"
   ]
  },
  {
   "cell_type": "code",
   "execution_count": 93,
   "metadata": {},
   "outputs": [
    {
     "data": {
      "text/plain": [
       "array([0.91128553, 0.8850411 ])"
      ]
     },
     "execution_count": 93,
     "metadata": {},
     "output_type": "execute_result"
    }
   ],
   "source": [
    "np.dot(L, res[:2])"
   ]
  },
  {
   "cell_type": "code",
   "execution_count": 97,
   "metadata": {},
   "outputs": [
    {
     "data": {
      "text/plain": [
       "0.4999590551690839"
      ]
     },
     "execution_count": 97,
     "metadata": {},
     "output_type": "execute_result"
    }
   ],
   "source": [
    "(1-norm.cdf(0,loc=mu[0],scale=np.sqrt(Sigma[0,0]))\n",
    "              -norm.cdf(0,loc=mu[1],scale=np.sqrt(Sigma[1,1]))\n",
    "              +multivariate_normal.cdf(np.zeros(2),mean=mu,cov=Sigma))"
   ]
  },
  {
   "cell_type": "code",
   "execution_count": 118,
   "metadata": {},
   "outputs": [],
   "source": [
    "def g2(X, mu = mu, L = L, m = res[3:]):\n",
    "    l_app = l_tilde(X, mu, L)\n",
    "    g_d = 1\n",
    "    for k in range(len(X)):\n",
    "        g_d *= norm.pdf(X[k], loc = m[k])/(1-norm.cdf(l_app[k]-mu[k]))\n",
    "    return(g_d)"
   ]
  },
  {
   "cell_type": "code",
   "execution_count": 102,
   "metadata": {},
   "outputs": [],
   "source": [
    "def G(mu, L, m):\n",
    "    k = len(mu)\n",
    "    X = np.zeros(k)\n",
    "    U = uniform.rvs(size = k)\n",
    "    for k_ in range(k):\n",
    "        l_app = (-mu[k_]-np.sum(X[:k_]*L[k_,:k_]))/L[k_,k_]\n",
    "        X[k_] = m[k_]+norm.ppf(norm.cdf(l_app-m[k_])+U[k_]*(1-norm.cdf(l_app-m[k_])))\n",
    "    return(X)"
   ]
  },
  {
   "cell_type": "code",
   "execution_count": 100,
   "metadata": {},
   "outputs": [],
   "source": [
    "def AR(c, g, G, mu, L, m):\n",
    "    U = uniform.rvs()\n",
    "    X = G(mu, L, m)\n",
    "    while(c*U > phi(X)/g(X)):\n",
    "        U = uniform.rvs()\n",
    "        X = G(mu, L, m)\n",
    "    return(X)"
   ]
  },
  {
   "cell_type": "code",
   "execution_count": 119,
   "metadata": {},
   "outputs": [],
   "source": [
    "n = 10000\n",
    "Test = np.array([mu+np.dot(L, AR(np.exp(psi(res, mu, L)), g2, G, mu, L, res[3:])) for _n in range(n)])"
   ]
  },
  {
   "cell_type": "code",
   "execution_count": 124,
   "metadata": {},
   "outputs": [
    {
     "data": {
      "text/plain": [
       "array([[2.81902654, 5.39167543, 3.44916564],\n",
       "       [0.72389023, 3.71690548, 2.80969292],\n",
       "       [0.44700585, 3.28089779, 1.41144292],\n",
       "       ...,\n",
       "       [0.17971831, 4.49313601, 4.08901909],\n",
       "       [0.07216987, 3.59295043, 2.70447001],\n",
       "       [1.94230892, 3.90115918, 1.49250655]])"
      ]
     },
     "execution_count": 124,
     "metadata": {},
     "output_type": "execute_result"
    }
   ],
   "source": [
    "Test"
   ]
  },
  {
   "cell_type": "code",
   "execution_count": 140,
   "metadata": {},
   "outputs": [
    {
     "data": {
      "image/png": "[encoded data removed]",
      "text/plain": [
       "<Figure size 720x1080 with 3 Axes>"
      ]
     },
     "metadata": {
      "needs_background": "light"
     },
     "output_type": "display_data"
    }
   ],
   "source": [
    "plot_Gibbs(Test, mu, Sigma)"
   ]
  }
 ],
 "metadata": {
  "kernelspec": {
   "display_name": "Python 3 (ipykernel)",
   "language": "python",
   "name": "python3"
  },
  "language_info": {
   "codemirror_mode": {
    "name": "ipython",
    "version": 3
   },
   "file_extension": ".py",
   "mimetype": "text/x-python",
   "name": "python",
   "nbconvert_exporter": "python",
   "pygments_lexer": "ipython3",
   "version": "3.9.7"
  },
  "latex_envs": {
   "LaTeX_envs_menu_present": true,
   "autoclose": false,
   "autocomplete": true,
   "bibliofile": "biblio.bib",
   "cite_by": "apalike",
   "current_citInitial": 1,
   "eqLabelWithNumbers": true,
   "eqNumInitial": 1,
   "hotkeys": {
    "equation": "Ctrl-E",
    "itemize": "Ctrl-I"
   },
   "labels_anchors": false,
   "latex_user_defs": false,
   "report_style_numbering": false,
   "user_envs_cfg": false
  },
  "varInspector": {
   "cols": {
    "lenName": 16,
    "lenType": 16,
    "lenVar": 40
   },
   "kernels_config": {
    "python": {
     "delete_cmd_postfix": "",
     "delete_cmd_prefix": "del ",
     "library": "var_list.py",
     "varRefreshCmd": "print(var_dic_list())"
    },
    "r": {
     "delete_cmd_postfix": ") ",
     "delete_cmd_prefix": "rm(",
     "library": "var_list.r",
     "varRefreshCmd": "cat(var_dic_list()) "
    }
   },
   "types_to_exclude": [
    "module",
    "function",
    "builtin_function_or_method",
    "instance",
    "_Feature"
   ],
   "window_display": false
  }
 },
 "nbformat": 4,
 "nbformat_minor": 2
}
